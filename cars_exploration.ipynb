{
 "cells": [
  {
   "cell_type": "markdown",
   "metadata": {},
   "source": [
    "# <center>CSIS 452 - Applied Machine Learning</center>\n",
    "## Assignment 2 - due: 2/27/2020\n",
    "In this assignment you will use `pandas`, `numpy`, and `matplotlib` to experiment with a data set of cars. The data set has a number of attributes about the cars such as <b>Number of cylinders</b> and <b>Horse Power</b> along with the corresponding gas consumptions in <b>Miles per Gallon</b>. The intent is to use all the other attributes of a car to predict its gas mileage.  \n",
    "\n",
    "We will first explore the data set using `pandas`. We will then extract the attributes (i.e., independent variables) and the gas mileage (i.e., dependent variable) as `numpy` arrays. We will use `numpy` to replace any missing data. We will then implement the linear regression normal equation using `numpy` and apply it to the mpg data set. \n",
    "\n",
    "Be sure to run the cells in order.\n",
    "\n",
    "Enter your name as a comment in the cell below:"
   ]
  },
  {
   "cell_type": "code",
   "execution_count": null,
   "metadata": {},
   "outputs": [],
   "source": [
    "# Developer: Brady Lange\n",
    "# Date: 02/13/2020\n",
    "# Course: Applied Machine Learning (CSIS 452)\n",
    "# Description: Data exploration and basic analysis of a cars data set. \n",
    "#              Analysis includes the basic statistical calculations \n",
    "#              and the normal equation for linear regression."
   ]
  },
  {
   "cell_type": "code",
   "execution_count": null,
   "metadata": {},
   "outputs": [],
   "source": [
    "# Load required libraries\n",
    "import pandas as pd\n",
    "from pandas.plotting import scatter_matrix\n",
    "import matplotlib.pyplot as plt\n",
    "import numpy as np"
   ]
  },
  {
   "cell_type": "markdown",
   "metadata": {
    "collapsed": true
   },
   "source": [
    "In the following cell, provide statement that would load the file <b>mpg.csv</b> into a `pandas` data frame called <b>`mpg_df`</b> and then display the first 3 rows of the data frame."
   ]
  },
  {
   "cell_type": "code",
   "execution_count": null,
   "metadata": {},
   "outputs": [],
   "source": [
    "# Load and Explore Data\n",
    "# =============================================================================\n",
    "# Load cars data set\n",
    "mpg_df = pd.read_csv(\"./data/mpg.csv\")\n",
    "\n",
    "# Display first three rows of the cars data set\n",
    "mpg_df.head(n = 3)"
   ]
  },
  {
   "cell_type": "markdown",
   "metadata": {},
   "source": [
    "## Expected Output:\n",
    "\n",
    "<img src=\"images/mpg_03_rows.png\" width=\"50%\" height=\"50%\">"
   ]
  },
  {
   "cell_type": "markdown",
   "metadata": {},
   "source": [
    "Use the `pandas` `info()` function to generate basic information about the mpg data you just loaded."
   ]
  },
  {
   "cell_type": "code",
   "execution_count": null,
   "metadata": {},
   "outputs": [],
   "source": [
    "# Display information about the car data set\n",
    "print(\"Data Set Information:\")\n",
    "print(\"**********************************************************************\")\n",
    "mpg_df.info()"
   ]
  },
  {
   "cell_type": "markdown",
   "metadata": {},
   "source": [
    "## Expected Output:\n",
    "\n",
    "<img src=\"images/mpg_info.png\" width=\"35%\" height=\"35%\">"
   ]
  },
  {
   "cell_type": "markdown",
   "metadata": {},
   "source": [
    "Review the information produced. In the following cell indicate if any of the attributes have missing data. If so, how many values are missing for the corresponding attribute. Be sure to explain how you discovered that."
   ]
  },
  {
   "cell_type": "markdown",
   "metadata": {},
   "source": [
    "Note that horsepower has 394 values while all other attributes have 398 values. This indicates that horsepower is missing 4 values."
   ]
  },
  {
   "cell_type": "markdown",
   "metadata": {},
   "source": [
    "Use pandas `describe()` function to further explore each of the attributes."
   ]
  },
  {
   "cell_type": "code",
   "execution_count": null,
   "metadata": {},
   "outputs": [],
   "source": [
    "# Check for NA values and add them together for each feature\n",
    "print(\"NA Values by Feature:\")\n",
    "print(\"**********************************************************************\")\n",
    "print(mpg_df.isna().sum(), \"\\n\")\n",
    "\n",
    "# Retrieve and display statistics for the car data set\n",
    "print(\"Feature Statistics:\")\n",
    "print(\"**********************************************************************\")\n",
    "print(mpg_df.describe())"
   ]
  },
  {
   "cell_type": "markdown",
   "metadata": {},
   "source": [
    "The `is.na()` method checks each feature's values and returns a `DataFrame()` of `True` and `False` values. `True`, when the value is NA and `False` when the value is not NA. Next, I can add these `True` values up with the `sum()` method which gives me only 4 NA values that appear in the feature `horsepower`."
   ]
  },
  {
   "cell_type": "markdown",
   "metadata": {},
   "source": [
    "## Expected Output:\n",
    "\n",
    "<img src=\"images/mpg_describe.png\" width=\"50%\" height=\"50%\">"
   ]
  },
  {
   "cell_type": "markdown",
   "metadata": {},
   "source": [
    "Now let's plot the data frame using the `DataFrame()` `plot()` function."
   ]
  },
  {
   "cell_type": "code",
   "execution_count": null,
   "metadata": {},
   "outputs": [],
   "source": [
    "# Visualize Data\n",
    "# =============================================================================\n",
    "# Visually plot the cars data set\n",
    "print(mpg_df.plot())"
   ]
  },
  {
   "cell_type": "markdown",
   "metadata": {},
   "source": [
    "## Expected Output:\n",
    "\n",
    "<img src=\"images/mpg_all_plot.png\" width=\"40%\" height=\"40%\">"
   ]
  },
  {
   "cell_type": "markdown",
   "metadata": {},
   "source": [
    "Remove the feature <b>`weight`</b> from the `DataFrame()` and save the resulting `DataFrame()` as `mpg_no_weight_df`."
   ]
  },
  {
   "cell_type": "code",
   "execution_count": null,
   "metadata": {},
   "outputs": [],
   "source": [
    "# Remove the `weight` feature from cars data set\n",
    "mpg_no_weight_df = mpg_df.drop(\"weight\", axis = 1)\n",
    "\n",
    "# Display the new data frame's information without `weight`\n",
    "print(\"Data Set Information (Without Weight Feature:)\")\n",
    "print(\"**********************************************************************\")\n",
    "print(mpg_no_weight_df.info())"
   ]
  },
  {
   "cell_type": "markdown",
   "metadata": {},
   "source": [
    "## Expected Output:\n",
    "\n",
    "<img src=\"images/mpg_info_no_weight.png\" width=\"35%\" height=\"35%\">"
   ]
  },
  {
   "cell_type": "markdown",
   "metadata": {},
   "source": [
    "Now let's plot the resulting `DataFrame()` using the `DataFrame()` `plot()` function."
   ]
  },
  {
   "cell_type": "code",
   "execution_count": null,
   "metadata": {},
   "outputs": [],
   "source": [
    "# Visually plot the new cars data set without `weight`\n",
    "print(mpg_no_weight_df.plot())"
   ]
  },
  {
   "cell_type": "markdown",
   "metadata": {},
   "source": [
    "## Expected Output:\n",
    "\n",
    "<img src=\"images/mpg_plot_no_weight.png\" width=\"40%\" height=\"40%\">"
   ]
  },
  {
   "cell_type": "markdown",
   "metadata": {},
   "source": [
    "Now let's use `matplotlib` to produce scatter plots of `MPG` vs. each attribute separately on its own figure. Be sure that each plot has the correct title."
   ]
  },
  {
   "cell_type": "code",
   "execution_count": null,
   "metadata": {},
   "outputs": [],
   "source": [
    "def display_scatter_x_y(x, y, data):\n",
    "    '''\n",
    "    Takes an input value of x and y with their corresponding\n",
    "    data and scatter plots the specific feature (x) against the \n",
    "    specific criterion (y) on its own figure with appropriate \n",
    "    metadata labels. Finally, displays the scatter plot.\n",
    "    \n",
    "    @param x  feature values\n",
    "    @param y  criterion values\n",
    "    @param data  data set of x and y\n",
    "\n",
    "    @version  1.0.0, 02/13/2020\n",
    "    @since  1.0, 02/13/2020\n",
    "    '''\n",
    "    # Visually scatter plot x = feature(n), y = criterion(MPG)\n",
    "    # Instantiate figure\n",
    "    fig = plt.figure()\n",
    "    # Add subplot with default location\n",
    "    ax = fig.add_subplot(1, 1, 1)\n",
    "    # Instantiate scatter plot\n",
    "    ax.scatter(x, y, data = data)\n",
    "    # Set figure's title\n",
    "    ax.set_title(y + \" vs. \" + x.capitalize())\n",
    "    # Set figure's x label\n",
    "    ax.set_xlabel(x.capitalize())\n",
    "    # Set figure's y label\n",
    "    ax.set_ylabel(y)\n",
    "    # Display the figure\n",
    "    plt.show()   \n",
    "\n",
    "# Comprehension to scatter plot each feature against the criterion\n",
    "[display_scatter_x_y(mpg_df.columns[i], \"MPG\", mpg_df) for i in range(mpg_df.shape[1] - 1)]"
   ]
  },
  {
   "cell_type": "markdown",
   "metadata": {},
   "source": [
    "## Expected Output:\n",
    "\n",
    "<img src=\"images/mpg_all_figures.png\" width=\"50%\" height=\"50%\">"
   ]
  },
  {
   "cell_type": "markdown",
   "metadata": {},
   "source": [
    "Using `pandas` <b>`corr()`</b> function produce the full correlation matrix."
   ]
  },
  {
   "cell_type": "code",
   "execution_count": null,
   "metadata": {},
   "outputs": [],
   "source": [
    "# Correlation function of all of the features in car data set\n",
    "print(\"Data Set Correlation Matrix:\")\n",
    "print(\"**********************************************************************\")\n",
    "print(mpg_df.corr())"
   ]
  },
  {
   "cell_type": "markdown",
   "metadata": {},
   "source": [
    "## Expected Output:\n",
    "\n",
    "<img src=\"images/mpg_corr.png\" width=\"70%\" height=\"70%\">"
   ]
  },
  {
   "cell_type": "markdown",
   "metadata": {},
   "source": [
    "Using `pandas` <b>`scatter_matrix()`</b> function, produce the histogram of all the attributes."
   ]
  },
  {
   "cell_type": "code",
   "execution_count": null,
   "metadata": {},
   "outputs": [],
   "source": [
    "# Visually plot a scatter matrix of the cars data set\n",
    "scatter_matrix(mpg_df, figsize = (25, 25))\n",
    "# Display the scatter matrix plot\n",
    "plt.show()"
   ]
  },
  {
   "cell_type": "markdown",
   "metadata": {},
   "source": [
    "## Expected Output:\n",
    "\n",
    "<img src=\"images/mpg_scatter_matrix.png\" width=\"100%\" height=\"100%\">"
   ]
  },
  {
   "cell_type": "markdown",
   "metadata": {},
   "source": [
    "1.) Compare your results of the last three steps. Can you identify the cells in the `scatter_matrix()` that match your own scatter plots?   \n",
    "\n",
    "2.) Does the correlation coefficient between `MPG` and `weight` match the corresponding scatter plot. Explain your answers in the following cell."
   ]
  },
  {
   "cell_type": "markdown",
   "metadata": {
    "collapsed": true
   },
   "source": [
    "1.) I can identify the cells in the `scatter_matrix()` plot that match my own scatter plots as they appear in the bottom row going from the feature `cylinders` to the feature `acceleration`. The criterion, `MPG`, is being plotted against each feature in the cars data set.\n",
    "\n",
    "2.) `MPG` and `weight` appear to have a negative correlation on the scatter matrix. When looking at the `corr()` method  between the features `MPG` and `weight` it has the negative value of `-0.831741` therefore validates this scatter matrix plot."
   ]
  },
  {
   "cell_type": "markdown",
   "metadata": {},
   "source": [
    "Extract the independent variables from the data frame and save it as `X_df`.  Extract the dependent variable (`MPG`) and save it in its own data frame `y_df`."
   ]
  },
  {
   "cell_type": "code",
   "execution_count": null,
   "metadata": {},
   "outputs": [],
   "source": [
    "# Preprocess Data\n",
    "# =============================================================================\n",
    "# Remove the criterion value `MPG`\n",
    "X_df = mpg_df.drop(\"MPG\", axis = 1)\n",
    "\n",
    "# Retrieve only the criterion value `MPG`\n",
    "y_df = mpg_df[[\"MPG\"]]\n",
    "\n",
    "# Display the information of the features and criterion\n",
    "print(\"Data Set Features Information:\")\n",
    "print(\"**********************************************************************\")\n",
    "print(X_df.info(), \"\\n\")\n",
    "print(\"Data Set Criterion Information:\")\n",
    "print(\"**********************************************************************\")\n",
    "print(y_df.info(), \"\\n\")"
   ]
  },
  {
   "cell_type": "markdown",
   "metadata": {},
   "source": [
    "## Expected Output:\n",
    "\n",
    "<img src=\"images/mpg_info_x_y.png\" width=\"35%\" height=\"35%\">"
   ]
  },
  {
   "cell_type": "markdown",
   "metadata": {},
   "source": [
    "Now convert `X_df` and `y_df` to `numpy` arrays and save them as `X` and `y` respectively."
   ]
  },
  {
   "cell_type": "code",
   "execution_count": null,
   "metadata": {},
   "outputs": [],
   "source": [
    "# Convert features and criterion to numpy arrays\n",
    "X = np.array(X_df)\n",
    "y = np.array(y_df)\n",
    "\n",
    "# Display the shapes on the features and criterion\n",
    "print(\"Data Set Features Dimension:\")\n",
    "print(\"**********************************************************************\")\n",
    "print(X.shape)\n",
    "print(\"Data Set Criterion Dimension:\")\n",
    "print(\"**********************************************************************\")\n",
    "print(y.shape)"
   ]
  },
  {
   "cell_type": "markdown",
   "metadata": {},
   "source": [
    "## Expected Output:\n",
    "\n",
    "(398, 5)\n",
    "\n",
    "(398, 1)"
   ]
  },
  {
   "cell_type": "markdown",
   "metadata": {},
   "source": [
    "Replace all missing values in `X` with 0 and display the the last 15 values of the attribute with missing values. You should be able to tell the attribute with missing values by looking at the `DataFrame()` `info()` you generated earlier.\n",
    "\n",
    "<b>HINT:</b> Missing values are stored as <b>`NaN`</b>. You can use <b>`np.isnan()`</b> to identify them."
   ]
  },
  {
   "cell_type": "code",
   "execution_count": null,
   "metadata": {},
   "outputs": [],
   "source": [
    "# Replace `NaN` values with 0\n",
    "X = np.nan_to_num(X)\n",
    "\n",
    "# Display the last 15 rows of the feature `horsepower`\n",
    "print(\"Data Set Feature `horsepower` - Last 15 Records:\")\n",
    "print(\"**********************************************************************\")\n",
    "print(X[-15:, 2])"
   ]
  },
  {
   "cell_type": "markdown",
   "metadata": {},
   "source": [
    "## Expected Output:\n",
    "\n",
    "[  67.   67.   67.    0.   85.   92.  112.   96.   84.   90.   86.   52. 84.   79.   82.]\n"
   ]
  },
  {
   "cell_type": "markdown",
   "metadata": {},
   "source": [
    "The Normal Equation for Linear Regression is:\n",
    "\n",
    "<b>W = (X$^T$ · X)$^{−1}$ · X$^T$ · y</b>\n",
    "\n",
    "Use this equation to compute the parameter vector `W`."
   ]
  },
  {
   "cell_type": "code",
   "execution_count": null,
   "metadata": {},
   "outputs": [],
   "source": [
    "# Normal Equation for Linear Regression\n",
    "# =============================================================================\n",
    "# Transpose the features\n",
    "X_T = np.transpose(X)\n",
    "# Calculate the inverse of the dot product of transpose X and X\n",
    "W = np.linalg.inv(X_T.dot(X))\n",
    "# Calculate the dot product of W and transpose X\n",
    "W = W.dot(X_T)\n",
    "# Calculate the dot product of W and criterion\n",
    "W = W.dot(y)\n",
    "# Display the normal equation for linear regression\n",
    "print(\"Normal Equation for Linear Regression Parameter Vector:\")\n",
    "print(\"**********************************************************************\")\n",
    "print(W)"
   ]
  },
  {
   "cell_type": "markdown",
   "metadata": {},
   "source": [
    "## Expected Output:\n",
    "\n",
    "[[ 2.83355801]\n",
    " [-0.06405789]\n",
    " [ 0.09053796]\n",
    " [-0.00519083]\n",
    " [ 1.68160498]]\n"
   ]
  }
 ],
 "metadata": {
  "kernelspec": {
   "display_name": "Python 3",
   "language": "python",
   "name": "python3"
  },
  "language_info": {
   "codemirror_mode": {
    "name": "ipython",
    "version": 3
   },
   "file_extension": ".py",
   "mimetype": "text/x-python",
   "name": "python",
   "nbconvert_exporter": "python",
   "pygments_lexer": "ipython3",
   "version": "3.7.5"
  }
 },
 "nbformat": 4,
 "nbformat_minor": 2
}
